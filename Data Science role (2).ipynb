{
 "cells": [
  {
   "cell_type": "markdown",
   "id": "1896e88e",
   "metadata": {},
   "source": [
    "# Charts for GHG emission "
   ]
  },
  {
   "cell_type": "code",
   "execution_count": 125,
   "id": "3761ffbc",
   "metadata": {},
   "outputs": [],
   "source": [
    "import pandas as pd\n",
    "import numpy as np\n",
    "import seaborn as sb\n",
    "import matplotlib.pyplot as plt\n",
    "import plotly.express as px\n",
    "import plotly.graph_objects as go"
   ]
  },
  {
   "cell_type": "code",
   "execution_count": 80,
   "id": "9bf2d522",
   "metadata": {},
   "outputs": [],
   "source": [
    "#import dataset\n",
    "df = pd.read_excel(r'C:\\Users\\daguajo\\Downloads\\EDGAR_2024_GHG_booklet_2024.xlsx', sheet_name=['GHG_totals_by_country','GHG_by_sector_and_country',\n",
    "                                                                                              'GHG_per_GDP_by_country','GHG_per_capita_by_country'])\n",
    "#access individual sheets\n",
    "ghg_totals_df = df['GHG_totals_by_country']\n",
    "ghg_sector_country_df = df['GHG_by_sector_and_country']\n",
    "ghg_per_GDP_df = df['GHG_per_GDP_by_country']\n",
    "ghg_per_capita_df = df['GHG_per_capita_by_country']"
   ]
  },
  {
   "cell_type": "code",
   "execution_count": 81,
   "id": "b1950952",
   "metadata": {},
   "outputs": [],
   "source": [
    "ghg_totals_df = ghg_totals_df.dropna()\n",
    "ghg_sector_country_df = ghg_sector_country_df.dropna()\n",
    "ghg_per_GDP_df = ghg_per_GDP_df.dropna()\n",
    "ghg_per_capita_df = ghg_per_capita.dropna()"
   ]
  },
  {
   "cell_type": "code",
   "execution_count": 7,
   "id": "35cc9c03",
   "metadata": {},
   "outputs": [],
   "source": [
    "ghg_totals_df = ghg_totals_df.drop(columns=['EDGAR Country Code'])"
   ]
  },
  {
   "cell_type": "code",
   "execution_count": 4,
   "id": "f8e9cfea",
   "metadata": {},
   "outputs": [],
   "source": [
    "ghg_totals_df.set_index('Country', inplace=True)"
   ]
  },
  {
   "cell_type": "code",
   "execution_count": 8,
   "id": "bc3efa5b",
   "metadata": {
    "scrolled": true
   },
   "outputs": [
    {
     "data": {
      "text/html": [
       "<div>\n",
       "<style scoped>\n",
       "    .dataframe tbody tr th:only-of-type {\n",
       "        vertical-align: middle;\n",
       "    }\n",
       "\n",
       "    .dataframe tbody tr th {\n",
       "        vertical-align: top;\n",
       "    }\n",
       "\n",
       "    .dataframe thead th {\n",
       "        text-align: right;\n",
       "    }\n",
       "</style>\n",
       "<table border=\"1\" class=\"dataframe\">\n",
       "  <thead>\n",
       "    <tr style=\"text-align: right;\">\n",
       "      <th></th>\n",
       "      <th>1970</th>\n",
       "      <th>1971</th>\n",
       "      <th>1972</th>\n",
       "      <th>1973</th>\n",
       "      <th>1974</th>\n",
       "      <th>1975</th>\n",
       "      <th>1976</th>\n",
       "      <th>1977</th>\n",
       "      <th>1978</th>\n",
       "      <th>1979</th>\n",
       "      <th>...</th>\n",
       "      <th>2014</th>\n",
       "      <th>2015</th>\n",
       "      <th>2016</th>\n",
       "      <th>2017</th>\n",
       "      <th>2018</th>\n",
       "      <th>2019</th>\n",
       "      <th>2020</th>\n",
       "      <th>2021</th>\n",
       "      <th>2022</th>\n",
       "      <th>2023</th>\n",
       "    </tr>\n",
       "    <tr>\n",
       "      <th>Country</th>\n",
       "      <th></th>\n",
       "      <th></th>\n",
       "      <th></th>\n",
       "      <th></th>\n",
       "      <th></th>\n",
       "      <th></th>\n",
       "      <th></th>\n",
       "      <th></th>\n",
       "      <th></th>\n",
       "      <th></th>\n",
       "      <th></th>\n",
       "      <th></th>\n",
       "      <th></th>\n",
       "      <th></th>\n",
       "      <th></th>\n",
       "      <th></th>\n",
       "      <th></th>\n",
       "      <th></th>\n",
       "      <th></th>\n",
       "      <th></th>\n",
       "      <th></th>\n",
       "    </tr>\n",
       "  </thead>\n",
       "  <tbody>\n",
       "    <tr>\n",
       "      <th>Zambia</th>\n",
       "      <td>12.463517</td>\n",
       "      <td>12.718537</td>\n",
       "      <td>13.299005</td>\n",
       "      <td>13.759407</td>\n",
       "      <td>13.976796</td>\n",
       "      <td>14.269532</td>\n",
       "      <td>14.699720</td>\n",
       "      <td>14.445728</td>\n",
       "      <td>14.267678</td>\n",
       "      <td>14.066985</td>\n",
       "      <td>...</td>\n",
       "      <td>23.503291</td>\n",
       "      <td>23.615690</td>\n",
       "      <td>24.219765</td>\n",
       "      <td>25.930251</td>\n",
       "      <td>27.255061</td>\n",
       "      <td>26.824978</td>\n",
       "      <td>27.344120</td>\n",
       "      <td>28.249100</td>\n",
       "      <td>29.845830</td>\n",
       "      <td>30.484449</td>\n",
       "    </tr>\n",
       "    <tr>\n",
       "      <th>Zimbabwe</th>\n",
       "      <td>21.723583</td>\n",
       "      <td>22.320466</td>\n",
       "      <td>21.961987</td>\n",
       "      <td>23.569806</td>\n",
       "      <td>23.655384</td>\n",
       "      <td>22.966457</td>\n",
       "      <td>24.095056</td>\n",
       "      <td>23.302597</td>\n",
       "      <td>22.280013</td>\n",
       "      <td>21.656377</td>\n",
       "      <td>...</td>\n",
       "      <td>29.122990</td>\n",
       "      <td>30.205254</td>\n",
       "      <td>28.406508</td>\n",
       "      <td>27.886488</td>\n",
       "      <td>29.907540</td>\n",
       "      <td>28.369352</td>\n",
       "      <td>26.770627</td>\n",
       "      <td>28.878405</td>\n",
       "      <td>29.825427</td>\n",
       "      <td>31.019306</td>\n",
       "    </tr>\n",
       "    <tr>\n",
       "      <th>EU27</th>\n",
       "      <td>4591.422704</td>\n",
       "      <td>4615.906263</td>\n",
       "      <td>4767.686556</td>\n",
       "      <td>4986.348683</td>\n",
       "      <td>4946.211218</td>\n",
       "      <td>4858.723738</td>\n",
       "      <td>5122.759438</td>\n",
       "      <td>5111.491639</td>\n",
       "      <td>5280.784988</td>\n",
       "      <td>5440.064043</td>\n",
       "      <td>...</td>\n",
       "      <td>3825.528400</td>\n",
       "      <td>3879.728839</td>\n",
       "      <td>3889.377080</td>\n",
       "      <td>3912.269335</td>\n",
       "      <td>3830.658886</td>\n",
       "      <td>3678.016394</td>\n",
       "      <td>3388.278789</td>\n",
       "      <td>3577.018019</td>\n",
       "      <td>3482.310460</td>\n",
       "      <td>3221.794615</td>\n",
       "    </tr>\n",
       "    <tr>\n",
       "      <th>GLOBAL TOTAL</th>\n",
       "      <td>24002.751737</td>\n",
       "      <td>24048.408217</td>\n",
       "      <td>24971.278726</td>\n",
       "      <td>26185.418698</td>\n",
       "      <td>26182.148420</td>\n",
       "      <td>26194.503677</td>\n",
       "      <td>27323.858863</td>\n",
       "      <td>27990.648330</td>\n",
       "      <td>28695.045982</td>\n",
       "      <td>29385.106672</td>\n",
       "      <td>...</td>\n",
       "      <td>48930.176837</td>\n",
       "      <td>48808.767176</td>\n",
       "      <td>49058.441256</td>\n",
       "      <td>49878.733809</td>\n",
       "      <td>51026.627449</td>\n",
       "      <td>51278.347920</td>\n",
       "      <td>49327.538885</td>\n",
       "      <td>51568.250032</td>\n",
       "      <td>51968.471601</td>\n",
       "      <td>52962.900859</td>\n",
       "    </tr>\n",
       "    <tr>\n",
       "      <th>EURO AREA</th>\n",
       "      <td>3818.975125</td>\n",
       "      <td>3848.486990</td>\n",
       "      <td>3986.204309</td>\n",
       "      <td>4184.625123</td>\n",
       "      <td>4165.299167</td>\n",
       "      <td>4043.942090</td>\n",
       "      <td>4269.365973</td>\n",
       "      <td>4229.514435</td>\n",
       "      <td>4373.971139</td>\n",
       "      <td>4507.761849</td>\n",
       "      <td>...</td>\n",
       "      <td>3351.391889</td>\n",
       "      <td>3398.163796</td>\n",
       "      <td>3406.821003</td>\n",
       "      <td>3422.813758</td>\n",
       "      <td>3347.536361</td>\n",
       "      <td>3208.107274</td>\n",
       "      <td>2944.530849</td>\n",
       "      <td>3111.743041</td>\n",
       "      <td>3025.562439</td>\n",
       "      <td>2796.254901</td>\n",
       "    </tr>\n",
       "  </tbody>\n",
       "</table>\n",
       "<p>5 rows × 54 columns</p>\n",
       "</div>"
      ],
      "text/plain": [
       "                      1970          1971          1972          1973  \\\n",
       "Country                                                                \n",
       "Zambia           12.463517     12.718537     13.299005     13.759407   \n",
       "Zimbabwe         21.723583     22.320466     21.961987     23.569806   \n",
       "EU27           4591.422704   4615.906263   4767.686556   4986.348683   \n",
       "GLOBAL TOTAL  24002.751737  24048.408217  24971.278726  26185.418698   \n",
       "EURO AREA      3818.975125   3848.486990   3986.204309   4184.625123   \n",
       "\n",
       "                      1974          1975          1976          1977  \\\n",
       "Country                                                                \n",
       "Zambia           13.976796     14.269532     14.699720     14.445728   \n",
       "Zimbabwe         23.655384     22.966457     24.095056     23.302597   \n",
       "EU27           4946.211218   4858.723738   5122.759438   5111.491639   \n",
       "GLOBAL TOTAL  26182.148420  26194.503677  27323.858863  27990.648330   \n",
       "EURO AREA      4165.299167   4043.942090   4269.365973   4229.514435   \n",
       "\n",
       "                      1978          1979  ...          2014          2015  \\\n",
       "Country                                   ...                               \n",
       "Zambia           14.267678     14.066985  ...     23.503291     23.615690   \n",
       "Zimbabwe         22.280013     21.656377  ...     29.122990     30.205254   \n",
       "EU27           5280.784988   5440.064043  ...   3825.528400   3879.728839   \n",
       "GLOBAL TOTAL  28695.045982  29385.106672  ...  48930.176837  48808.767176   \n",
       "EURO AREA      4373.971139   4507.761849  ...   3351.391889   3398.163796   \n",
       "\n",
       "                      2016          2017          2018          2019  \\\n",
       "Country                                                                \n",
       "Zambia           24.219765     25.930251     27.255061     26.824978   \n",
       "Zimbabwe         28.406508     27.886488     29.907540     28.369352   \n",
       "EU27           3889.377080   3912.269335   3830.658886   3678.016394   \n",
       "GLOBAL TOTAL  49058.441256  49878.733809  51026.627449  51278.347920   \n",
       "EURO AREA      3406.821003   3422.813758   3347.536361   3208.107274   \n",
       "\n",
       "                      2020          2021          2022          2023  \n",
       "Country                                                               \n",
       "Zambia           27.344120     28.249100     29.845830     30.484449  \n",
       "Zimbabwe         26.770627     28.878405     29.825427     31.019306  \n",
       "EU27           3388.278789   3577.018019   3482.310460   3221.794615  \n",
       "GLOBAL TOTAL  49327.538885  51568.250032  51968.471601  52962.900859  \n",
       "EURO AREA      2944.530849   3111.743041   3025.562439   2796.254901  \n",
       "\n",
       "[5 rows x 54 columns]"
      ]
     },
     "execution_count": 8,
     "metadata": {},
     "output_type": "execute_result"
    }
   ],
   "source": [
    "ghg_totals_df.tail()"
   ]
  },
  {
   "cell_type": "markdown",
   "id": "c5f3c088",
   "metadata": {},
   "source": [
    "### Chart 1 - Evolution of GHG growth in the euro area, European Union (EU27) and worldwide"
   ]
  },
  {
   "cell_type": "code",
   "execution_count": 11,
   "id": "39ce3c77",
   "metadata": {},
   "outputs": [
    {
     "data": {
      "image/png": "[encoded data removed]",
      "text/plain": [
       "<Figure size 640x480 with 1 Axes>"
      ]
     },
     "metadata": {},
     "output_type": "display_data"
    }
   ],
   "source": [
    "ghg_totals_df.loc['EU27'].plot()\n",
    "ghg_totals_df.loc['GLOBAL TOTAL'].plot()\n",
    "ghg_totals_df.loc['EURO AREA'].plot()\n",
    "\n",
    "\n",
    "plt.show()"
   ]
  },
  {
   "cell_type": "markdown",
   "id": "86ea4018",
   "metadata": {},
   "source": [
    "### Chart 2 - Comparison of countries’ GHG emissions per capita aggregated according to the World Bank income groups"
   ]
  },
  {
   "cell_type": "code",
   "execution_count": 82,
   "id": "b2b1ade4",
   "metadata": {},
   "outputs": [],
   "source": [
    "#First we need to group the countries according to the World Bank income groups\n",
    "#In the World Bank website there's an excel grouping the countries by income\n",
    "\n",
    "world_bank_df = pd.read_excel(r'C:\\Users\\daguajo\\Downloads\\CLASS.xlsx')"
   ]
  },
  {
   "cell_type": "code",
   "execution_count": 83,
   "id": "76e47069",
   "metadata": {},
   "outputs": [
    {
     "data": {
      "text/html": [
       "<div>\n",
       "<style scoped>\n",
       "    .dataframe tbody tr th:only-of-type {\n",
       "        vertical-align: middle;\n",
       "    }\n",
       "\n",
       "    .dataframe tbody tr th {\n",
       "        vertical-align: top;\n",
       "    }\n",
       "\n",
       "    .dataframe thead th {\n",
       "        text-align: right;\n",
       "    }\n",
       "</style>\n",
       "<table border=\"1\" class=\"dataframe\">\n",
       "  <thead>\n",
       "    <tr style=\"text-align: right;\">\n",
       "      <th></th>\n",
       "      <th>Economy</th>\n",
       "      <th>Code</th>\n",
       "      <th>Region</th>\n",
       "      <th>Income group</th>\n",
       "      <th>Lending category</th>\n",
       "    </tr>\n",
       "  </thead>\n",
       "  <tbody>\n",
       "    <tr>\n",
       "      <th>0</th>\n",
       "      <td>Afghanistan</td>\n",
       "      <td>AFG</td>\n",
       "      <td>South Asia</td>\n",
       "      <td>Low income</td>\n",
       "      <td>IDA</td>\n",
       "    </tr>\n",
       "    <tr>\n",
       "      <th>1</th>\n",
       "      <td>Albania</td>\n",
       "      <td>ALB</td>\n",
       "      <td>Europe &amp; Central Asia</td>\n",
       "      <td>Upper middle income</td>\n",
       "      <td>IBRD</td>\n",
       "    </tr>\n",
       "    <tr>\n",
       "      <th>2</th>\n",
       "      <td>Algeria</td>\n",
       "      <td>DZA</td>\n",
       "      <td>Middle East &amp; North Africa</td>\n",
       "      <td>Upper middle income</td>\n",
       "      <td>IBRD</td>\n",
       "    </tr>\n",
       "    <tr>\n",
       "      <th>3</th>\n",
       "      <td>American Samoa</td>\n",
       "      <td>ASM</td>\n",
       "      <td>East Asia &amp; Pacific</td>\n",
       "      <td>High income</td>\n",
       "      <td>NaN</td>\n",
       "    </tr>\n",
       "    <tr>\n",
       "      <th>4</th>\n",
       "      <td>Andorra</td>\n",
       "      <td>AND</td>\n",
       "      <td>Europe &amp; Central Asia</td>\n",
       "      <td>High income</td>\n",
       "      <td>NaN</td>\n",
       "    </tr>\n",
       "    <tr>\n",
       "      <th>...</th>\n",
       "      <td>...</td>\n",
       "      <td>...</td>\n",
       "      <td>...</td>\n",
       "      <td>...</td>\n",
       "      <td>...</td>\n",
       "    </tr>\n",
       "    <tr>\n",
       "      <th>262</th>\n",
       "      <td>Sub-Saharan Africa</td>\n",
       "      <td>SSF</td>\n",
       "      <td>NaN</td>\n",
       "      <td>NaN</td>\n",
       "      <td>NaN</td>\n",
       "    </tr>\n",
       "    <tr>\n",
       "      <th>263</th>\n",
       "      <td>Sub-Saharan Africa (excluding high income)</td>\n",
       "      <td>SSA</td>\n",
       "      <td>NaN</td>\n",
       "      <td>NaN</td>\n",
       "      <td>NaN</td>\n",
       "    </tr>\n",
       "    <tr>\n",
       "      <th>264</th>\n",
       "      <td>Sub-Saharan Africa (IDA &amp; IBRD)</td>\n",
       "      <td>TSS</td>\n",
       "      <td>NaN</td>\n",
       "      <td>NaN</td>\n",
       "      <td>NaN</td>\n",
       "    </tr>\n",
       "    <tr>\n",
       "      <th>265</th>\n",
       "      <td>Upper middle income</td>\n",
       "      <td>UMC</td>\n",
       "      <td>NaN</td>\n",
       "      <td>NaN</td>\n",
       "      <td>NaN</td>\n",
       "    </tr>\n",
       "    <tr>\n",
       "      <th>266</th>\n",
       "      <td>World</td>\n",
       "      <td>WLD</td>\n",
       "      <td>NaN</td>\n",
       "      <td>NaN</td>\n",
       "      <td>NaN</td>\n",
       "    </tr>\n",
       "  </tbody>\n",
       "</table>\n",
       "<p>267 rows × 5 columns</p>\n",
       "</div>"
      ],
      "text/plain": [
       "                                        Economy Code  \\\n",
       "0                                   Afghanistan  AFG   \n",
       "1                                       Albania  ALB   \n",
       "2                                       Algeria  DZA   \n",
       "3                                American Samoa  ASM   \n",
       "4                                       Andorra  AND   \n",
       "..                                          ...  ...   \n",
       "262                          Sub-Saharan Africa  SSF   \n",
       "263  Sub-Saharan Africa (excluding high income)  SSA   \n",
       "264             Sub-Saharan Africa (IDA & IBRD)  TSS   \n",
       "265                         Upper middle income  UMC   \n",
       "266                                       World  WLD   \n",
       "\n",
       "                         Region         Income group Lending category  \n",
       "0                    South Asia           Low income              IDA  \n",
       "1         Europe & Central Asia  Upper middle income             IBRD  \n",
       "2    Middle East & North Africa  Upper middle income             IBRD  \n",
       "3           East Asia & Pacific          High income              NaN  \n",
       "4         Europe & Central Asia          High income              NaN  \n",
       "..                          ...                  ...              ...  \n",
       "262                         NaN                  NaN              NaN  \n",
       "263                         NaN                  NaN              NaN  \n",
       "264                         NaN                  NaN              NaN  \n",
       "265                         NaN                  NaN              NaN  \n",
       "266                         NaN                  NaN              NaN  \n",
       "\n",
       "[267 rows x 5 columns]"
      ]
     },
     "execution_count": 83,
     "metadata": {},
     "output_type": "execute_result"
    }
   ],
   "source": [
    "world_bank_df"
   ]
  },
  {
   "cell_type": "code",
   "execution_count": 84,
   "id": "d9694cef",
   "metadata": {},
   "outputs": [],
   "source": [
    "world_bank_df.rename(columns = {'Economy': 'Country', 'Code':'EDGAR Country Code'}, inplace = True)"
   ]
  },
  {
   "cell_type": "code",
   "execution_count": 85,
   "id": "37995abe",
   "metadata": {},
   "outputs": [],
   "source": [
    "#world_bank_df.set_index('Country', inplace =True)"
   ]
  },
  {
   "cell_type": "code",
   "execution_count": 86,
   "id": "465df219",
   "metadata": {},
   "outputs": [
    {
     "data": {
      "text/html": [
       "<div>\n",
       "<style scoped>\n",
       "    .dataframe tbody tr th:only-of-type {\n",
       "        vertical-align: middle;\n",
       "    }\n",
       "\n",
       "    .dataframe tbody tr th {\n",
       "        vertical-align: top;\n",
       "    }\n",
       "\n",
       "    .dataframe thead th {\n",
       "        text-align: right;\n",
       "    }\n",
       "</style>\n",
       "<table border=\"1\" class=\"dataframe\">\n",
       "  <thead>\n",
       "    <tr style=\"text-align: right;\">\n",
       "      <th></th>\n",
       "      <th>Country</th>\n",
       "      <th>EDGAR Country Code</th>\n",
       "      <th>Region</th>\n",
       "      <th>Income group</th>\n",
       "      <th>Lending category</th>\n",
       "    </tr>\n",
       "  </thead>\n",
       "  <tbody>\n",
       "    <tr>\n",
       "      <th>0</th>\n",
       "      <td>Afghanistan</td>\n",
       "      <td>AFG</td>\n",
       "      <td>South Asia</td>\n",
       "      <td>Low income</td>\n",
       "      <td>IDA</td>\n",
       "    </tr>\n",
       "    <tr>\n",
       "      <th>1</th>\n",
       "      <td>Albania</td>\n",
       "      <td>ALB</td>\n",
       "      <td>Europe &amp; Central Asia</td>\n",
       "      <td>Upper middle income</td>\n",
       "      <td>IBRD</td>\n",
       "    </tr>\n",
       "    <tr>\n",
       "      <th>2</th>\n",
       "      <td>Algeria</td>\n",
       "      <td>DZA</td>\n",
       "      <td>Middle East &amp; North Africa</td>\n",
       "      <td>Upper middle income</td>\n",
       "      <td>IBRD</td>\n",
       "    </tr>\n",
       "    <tr>\n",
       "      <th>3</th>\n",
       "      <td>American Samoa</td>\n",
       "      <td>ASM</td>\n",
       "      <td>East Asia &amp; Pacific</td>\n",
       "      <td>High income</td>\n",
       "      <td>NaN</td>\n",
       "    </tr>\n",
       "    <tr>\n",
       "      <th>4</th>\n",
       "      <td>Andorra</td>\n",
       "      <td>AND</td>\n",
       "      <td>Europe &amp; Central Asia</td>\n",
       "      <td>High income</td>\n",
       "      <td>NaN</td>\n",
       "    </tr>\n",
       "    <tr>\n",
       "      <th>...</th>\n",
       "      <td>...</td>\n",
       "      <td>...</td>\n",
       "      <td>...</td>\n",
       "      <td>...</td>\n",
       "      <td>...</td>\n",
       "    </tr>\n",
       "    <tr>\n",
       "      <th>262</th>\n",
       "      <td>Sub-Saharan Africa</td>\n",
       "      <td>SSF</td>\n",
       "      <td>NaN</td>\n",
       "      <td>NaN</td>\n",
       "      <td>NaN</td>\n",
       "    </tr>\n",
       "    <tr>\n",
       "      <th>263</th>\n",
       "      <td>Sub-Saharan Africa (excluding high income)</td>\n",
       "      <td>SSA</td>\n",
       "      <td>NaN</td>\n",
       "      <td>NaN</td>\n",
       "      <td>NaN</td>\n",
       "    </tr>\n",
       "    <tr>\n",
       "      <th>264</th>\n",
       "      <td>Sub-Saharan Africa (IDA &amp; IBRD)</td>\n",
       "      <td>TSS</td>\n",
       "      <td>NaN</td>\n",
       "      <td>NaN</td>\n",
       "      <td>NaN</td>\n",
       "    </tr>\n",
       "    <tr>\n",
       "      <th>265</th>\n",
       "      <td>Upper middle income</td>\n",
       "      <td>UMC</td>\n",
       "      <td>NaN</td>\n",
       "      <td>NaN</td>\n",
       "      <td>NaN</td>\n",
       "    </tr>\n",
       "    <tr>\n",
       "      <th>266</th>\n",
       "      <td>World</td>\n",
       "      <td>WLD</td>\n",
       "      <td>NaN</td>\n",
       "      <td>NaN</td>\n",
       "      <td>NaN</td>\n",
       "    </tr>\n",
       "  </tbody>\n",
       "</table>\n",
       "<p>267 rows × 5 columns</p>\n",
       "</div>"
      ],
      "text/plain": [
       "                                        Country EDGAR Country Code  \\\n",
       "0                                   Afghanistan                AFG   \n",
       "1                                       Albania                ALB   \n",
       "2                                       Algeria                DZA   \n",
       "3                                American Samoa                ASM   \n",
       "4                                       Andorra                AND   \n",
       "..                                          ...                ...   \n",
       "262                          Sub-Saharan Africa                SSF   \n",
       "263  Sub-Saharan Africa (excluding high income)                SSA   \n",
       "264             Sub-Saharan Africa (IDA & IBRD)                TSS   \n",
       "265                         Upper middle income                UMC   \n",
       "266                                       World                WLD   \n",
       "\n",
       "                         Region         Income group Lending category  \n",
       "0                    South Asia           Low income              IDA  \n",
       "1         Europe & Central Asia  Upper middle income             IBRD  \n",
       "2    Middle East & North Africa  Upper middle income             IBRD  \n",
       "3           East Asia & Pacific          High income              NaN  \n",
       "4         Europe & Central Asia          High income              NaN  \n",
       "..                          ...                  ...              ...  \n",
       "262                         NaN                  NaN              NaN  \n",
       "263                         NaN                  NaN              NaN  \n",
       "264                         NaN                  NaN              NaN  \n",
       "265                         NaN                  NaN              NaN  \n",
       "266                         NaN                  NaN              NaN  \n",
       "\n",
       "[267 rows x 5 columns]"
      ]
     },
     "execution_count": 86,
     "metadata": {},
     "output_type": "execute_result"
    }
   ],
   "source": [
    "world_bank_df"
   ]
  },
  {
   "cell_type": "code",
   "execution_count": 87,
   "id": "ae25724d",
   "metadata": {},
   "outputs": [],
   "source": [
    "world_bank_df = world_bank_df.drop(columns = ['Region', 'Lending category','Country'])"
   ]
  },
  {
   "cell_type": "code",
   "execution_count": 88,
   "id": "c91454dd",
   "metadata": {},
   "outputs": [],
   "source": [
    "world_bank_df = world_bank_df.dropna()"
   ]
  },
  {
   "cell_type": "code",
   "execution_count": 89,
   "id": "e587a501",
   "metadata": {},
   "outputs": [
    {
     "data": {
      "text/html": [
       "<div>\n",
       "<style scoped>\n",
       "    .dataframe tbody tr th:only-of-type {\n",
       "        vertical-align: middle;\n",
       "    }\n",
       "\n",
       "    .dataframe tbody tr th {\n",
       "        vertical-align: top;\n",
       "    }\n",
       "\n",
       "    .dataframe thead th {\n",
       "        text-align: right;\n",
       "    }\n",
       "</style>\n",
       "<table border=\"1\" class=\"dataframe\">\n",
       "  <thead>\n",
       "    <tr style=\"text-align: right;\">\n",
       "      <th></th>\n",
       "      <th>EDGAR Country Code</th>\n",
       "      <th>Income group</th>\n",
       "    </tr>\n",
       "  </thead>\n",
       "  <tbody>\n",
       "    <tr>\n",
       "      <th>0</th>\n",
       "      <td>AFG</td>\n",
       "      <td>Low income</td>\n",
       "    </tr>\n",
       "    <tr>\n",
       "      <th>1</th>\n",
       "      <td>ALB</td>\n",
       "      <td>Upper middle income</td>\n",
       "    </tr>\n",
       "    <tr>\n",
       "      <th>2</th>\n",
       "      <td>DZA</td>\n",
       "      <td>Upper middle income</td>\n",
       "    </tr>\n",
       "    <tr>\n",
       "      <th>3</th>\n",
       "      <td>ASM</td>\n",
       "      <td>High income</td>\n",
       "    </tr>\n",
       "    <tr>\n",
       "      <th>4</th>\n",
       "      <td>AND</td>\n",
       "      <td>High income</td>\n",
       "    </tr>\n",
       "  </tbody>\n",
       "</table>\n",
       "</div>"
      ],
      "text/plain": [
       "  EDGAR Country Code         Income group\n",
       "0                AFG           Low income\n",
       "1                ALB  Upper middle income\n",
       "2                DZA  Upper middle income\n",
       "3                ASM          High income\n",
       "4                AND          High income"
      ]
     },
     "execution_count": 89,
     "metadata": {},
     "output_type": "execute_result"
    }
   ],
   "source": [
    "#Now we have a data frame with only the countries set as indexes and the income group\n",
    "world_bank_df.head()"
   ]
  },
  {
   "cell_type": "code",
   "execution_count": 90,
   "id": "119cb7bd",
   "metadata": {},
   "outputs": [],
   "source": [
    "#Now we need to add both dataframes and join \n",
    "merged_df = pd.merge(ghg_per_capita_df, world_bank_df, on='EDGAR Country Code')"
   ]
  },
  {
   "cell_type": "code",
   "execution_count": 91,
   "id": "a2649d04",
   "metadata": {},
   "outputs": [],
   "source": [
    "merged_df= merged_df.drop(columns = ['EDGAR Country Code'])"
   ]
  },
  {
   "cell_type": "code",
   "execution_count": 92,
   "id": "3ca7ff5a",
   "metadata": {},
   "outputs": [],
   "source": [
    "merged_df.set_index(['Country'], inplace = True)"
   ]
  },
  {
   "cell_type": "code",
   "execution_count": 99,
   "id": "c619aa56",
   "metadata": {
    "scrolled": true
   },
   "outputs": [
    {
     "data": {
      "text/html": [
       "<div>\n",
       "<style scoped>\n",
       "    .dataframe tbody tr th:only-of-type {\n",
       "        vertical-align: middle;\n",
       "    }\n",
       "\n",
       "    .dataframe tbody tr th {\n",
       "        vertical-align: top;\n",
       "    }\n",
       "\n",
       "    .dataframe thead th {\n",
       "        text-align: right;\n",
       "    }\n",
       "</style>\n",
       "<table border=\"1\" class=\"dataframe\">\n",
       "  <thead>\n",
       "    <tr style=\"text-align: right;\">\n",
       "      <th></th>\n",
       "      <th>1970</th>\n",
       "      <th>1971</th>\n",
       "      <th>1972</th>\n",
       "      <th>1973</th>\n",
       "      <th>1974</th>\n",
       "      <th>1975</th>\n",
       "      <th>1976</th>\n",
       "      <th>1977</th>\n",
       "      <th>1978</th>\n",
       "      <th>1979</th>\n",
       "      <th>...</th>\n",
       "      <th>2015</th>\n",
       "      <th>2016</th>\n",
       "      <th>2017</th>\n",
       "      <th>2018</th>\n",
       "      <th>2019</th>\n",
       "      <th>2020</th>\n",
       "      <th>2021</th>\n",
       "      <th>2022</th>\n",
       "      <th>2023</th>\n",
       "      <th>Income group</th>\n",
       "    </tr>\n",
       "    <tr>\n",
       "      <th>Country</th>\n",
       "      <th></th>\n",
       "      <th></th>\n",
       "      <th></th>\n",
       "      <th></th>\n",
       "      <th></th>\n",
       "      <th></th>\n",
       "      <th></th>\n",
       "      <th></th>\n",
       "      <th></th>\n",
       "      <th></th>\n",
       "      <th></th>\n",
       "      <th></th>\n",
       "      <th></th>\n",
       "      <th></th>\n",
       "      <th></th>\n",
       "      <th></th>\n",
       "      <th></th>\n",
       "      <th></th>\n",
       "      <th></th>\n",
       "      <th></th>\n",
       "      <th></th>\n",
       "    </tr>\n",
       "  </thead>\n",
       "  <tbody>\n",
       "    <tr>\n",
       "      <th>Aruba</th>\n",
       "      <td>0.621591</td>\n",
       "      <td>0.698825</td>\n",
       "      <td>0.875514</td>\n",
       "      <td>0.952142</td>\n",
       "      <td>0.935603</td>\n",
       "      <td>1.166287</td>\n",
       "      <td>1.151959</td>\n",
       "      <td>1.335586</td>\n",
       "      <td>1.422297</td>\n",
       "      <td>1.492020</td>\n",
       "      <td>...</td>\n",
       "      <td>4.705631</td>\n",
       "      <td>4.908697</td>\n",
       "      <td>4.713297</td>\n",
       "      <td>4.689429</td>\n",
       "      <td>5.553807</td>\n",
       "      <td>4.529961</td>\n",
       "      <td>4.964500</td>\n",
       "      <td>4.986945</td>\n",
       "      <td>5.199052</td>\n",
       "      <td>High income</td>\n",
       "    </tr>\n",
       "    <tr>\n",
       "      <th>Afghanistan</th>\n",
       "      <td>1.387497</td>\n",
       "      <td>1.345625</td>\n",
       "      <td>1.136047</td>\n",
       "      <td>1.158556</td>\n",
       "      <td>1.231819</td>\n",
       "      <td>1.258354</td>\n",
       "      <td>1.241663</td>\n",
       "      <td>1.231162</td>\n",
       "      <td>1.181495</td>\n",
       "      <td>1.162233</td>\n",
       "      <td>...</td>\n",
       "      <td>0.812424</td>\n",
       "      <td>0.768525</td>\n",
       "      <td>0.779393</td>\n",
       "      <td>0.757517</td>\n",
       "      <td>0.725168</td>\n",
       "      <td>0.700207</td>\n",
       "      <td>0.710363</td>\n",
       "      <td>0.719308</td>\n",
       "      <td>0.724742</td>\n",
       "      <td>Low income</td>\n",
       "    </tr>\n",
       "    <tr>\n",
       "      <th>Angola</th>\n",
       "      <td>2.803674</td>\n",
       "      <td>2.723448</td>\n",
       "      <td>3.024597</td>\n",
       "      <td>3.162829</td>\n",
       "      <td>3.168898</td>\n",
       "      <td>2.931294</td>\n",
       "      <td>2.352391</td>\n",
       "      <td>2.859557</td>\n",
       "      <td>3.032015</td>\n",
       "      <td>2.998765</td>\n",
       "      <td>...</td>\n",
       "      <td>2.935287</td>\n",
       "      <td>2.737463</td>\n",
       "      <td>2.465213</td>\n",
       "      <td>2.258536</td>\n",
       "      <td>2.199314</td>\n",
       "      <td>1.878921</td>\n",
       "      <td>1.900307</td>\n",
       "      <td>1.920968</td>\n",
       "      <td>1.874900</td>\n",
       "      <td>Lower middle income</td>\n",
       "    </tr>\n",
       "    <tr>\n",
       "      <th>Albania</th>\n",
       "      <td>3.824444</td>\n",
       "      <td>3.710615</td>\n",
       "      <td>4.039683</td>\n",
       "      <td>3.723085</td>\n",
       "      <td>3.754264</td>\n",
       "      <td>3.746380</td>\n",
       "      <td>3.913496</td>\n",
       "      <td>4.051386</td>\n",
       "      <td>4.363888</td>\n",
       "      <td>4.714221</td>\n",
       "      <td>...</td>\n",
       "      <td>2.989698</td>\n",
       "      <td>2.855613</td>\n",
       "      <td>3.127462</td>\n",
       "      <td>3.119193</td>\n",
       "      <td>2.933062</td>\n",
       "      <td>2.708112</td>\n",
       "      <td>2.851648</td>\n",
       "      <td>2.650839</td>\n",
       "      <td>2.603893</td>\n",
       "      <td>Upper middle income</td>\n",
       "    </tr>\n",
       "    <tr>\n",
       "      <th>United Arab Emirates</th>\n",
       "      <td>126.395533</td>\n",
       "      <td>128.444163</td>\n",
       "      <td>118.626687</td>\n",
       "      <td>127.599030</td>\n",
       "      <td>110.750021</td>\n",
       "      <td>95.740541</td>\n",
       "      <td>99.445728</td>\n",
       "      <td>87.394145</td>\n",
       "      <td>83.190259</td>\n",
       "      <td>59.212356</td>\n",
       "      <td>...</td>\n",
       "      <td>27.745375</td>\n",
       "      <td>28.263682</td>\n",
       "      <td>27.033301</td>\n",
       "      <td>25.002410</td>\n",
       "      <td>25.985158</td>\n",
       "      <td>25.407053</td>\n",
       "      <td>25.859402</td>\n",
       "      <td>26.601027</td>\n",
       "      <td>26.290684</td>\n",
       "      <td>High income</td>\n",
       "    </tr>\n",
       "    <tr>\n",
       "      <th>...</th>\n",
       "      <td>...</td>\n",
       "      <td>...</td>\n",
       "      <td>...</td>\n",
       "      <td>...</td>\n",
       "      <td>...</td>\n",
       "      <td>...</td>\n",
       "      <td>...</td>\n",
       "      <td>...</td>\n",
       "      <td>...</td>\n",
       "      <td>...</td>\n",
       "      <td>...</td>\n",
       "      <td>...</td>\n",
       "      <td>...</td>\n",
       "      <td>...</td>\n",
       "      <td>...</td>\n",
       "      <td>...</td>\n",
       "      <td>...</td>\n",
       "      <td>...</td>\n",
       "      <td>...</td>\n",
       "      <td>...</td>\n",
       "      <td>...</td>\n",
       "    </tr>\n",
       "    <tr>\n",
       "      <th>Samoa</th>\n",
       "      <td>1.102169</td>\n",
       "      <td>1.086784</td>\n",
       "      <td>1.105879</td>\n",
       "      <td>1.196566</td>\n",
       "      <td>1.343426</td>\n",
       "      <td>1.249852</td>\n",
       "      <td>1.247933</td>\n",
       "      <td>1.274754</td>\n",
       "      <td>1.280024</td>\n",
       "      <td>1.337570</td>\n",
       "      <td>...</td>\n",
       "      <td>2.920001</td>\n",
       "      <td>2.931816</td>\n",
       "      <td>2.892860</td>\n",
       "      <td>2.772027</td>\n",
       "      <td>2.868120</td>\n",
       "      <td>2.826158</td>\n",
       "      <td>3.055106</td>\n",
       "      <td>3.131380</td>\n",
       "      <td>3.167371</td>\n",
       "      <td>Lower middle income</td>\n",
       "    </tr>\n",
       "    <tr>\n",
       "      <th>Yemen</th>\n",
       "      <td>0.871496</td>\n",
       "      <td>0.903826</td>\n",
       "      <td>0.929471</td>\n",
       "      <td>0.959627</td>\n",
       "      <td>0.973303</td>\n",
       "      <td>0.951887</td>\n",
       "      <td>0.968989</td>\n",
       "      <td>0.954135</td>\n",
       "      <td>0.965012</td>\n",
       "      <td>0.965421</td>\n",
       "      <td>...</td>\n",
       "      <td>1.167549</td>\n",
       "      <td>0.984570</td>\n",
       "      <td>1.020746</td>\n",
       "      <td>1.104478</td>\n",
       "      <td>1.136587</td>\n",
       "      <td>1.087048</td>\n",
       "      <td>1.081515</td>\n",
       "      <td>1.050641</td>\n",
       "      <td>1.000120</td>\n",
       "      <td>Low income</td>\n",
       "    </tr>\n",
       "    <tr>\n",
       "      <th>South Africa</th>\n",
       "      <td>10.557249</td>\n",
       "      <td>10.246992</td>\n",
       "      <td>10.266928</td>\n",
       "      <td>10.753606</td>\n",
       "      <td>10.818674</td>\n",
       "      <td>11.227200</td>\n",
       "      <td>11.534004</td>\n",
       "      <td>11.325346</td>\n",
       "      <td>10.323970</td>\n",
       "      <td>10.407745</td>\n",
       "      <td>...</td>\n",
       "      <td>10.549465</td>\n",
       "      <td>10.413037</td>\n",
       "      <td>10.496244</td>\n",
       "      <td>10.419614</td>\n",
       "      <td>10.382329</td>\n",
       "      <td>9.225107</td>\n",
       "      <td>9.281145</td>\n",
       "      <td>8.884374</td>\n",
       "      <td>8.614204</td>\n",
       "      <td>Upper middle income</td>\n",
       "    </tr>\n",
       "    <tr>\n",
       "      <th>Zambia</th>\n",
       "      <td>2.985989</td>\n",
       "      <td>2.945469</td>\n",
       "      <td>2.975169</td>\n",
       "      <td>2.971794</td>\n",
       "      <td>2.914869</td>\n",
       "      <td>2.874604</td>\n",
       "      <td>2.860424</td>\n",
       "      <td>2.716384</td>\n",
       "      <td>2.593652</td>\n",
       "      <td>2.471795</td>\n",
       "      <td>...</td>\n",
       "      <td>1.466813</td>\n",
       "      <td>1.459813</td>\n",
       "      <td>1.516921</td>\n",
       "      <td>1.547704</td>\n",
       "      <td>1.479020</td>\n",
       "      <td>1.463896</td>\n",
       "      <td>1.468630</td>\n",
       "      <td>1.507137</td>\n",
       "      <td>1.495362</td>\n",
       "      <td>Lower middle income</td>\n",
       "    </tr>\n",
       "    <tr>\n",
       "      <th>Zimbabwe</th>\n",
       "      <td>4.197291</td>\n",
       "      <td>4.171122</td>\n",
       "      <td>3.967215</td>\n",
       "      <td>4.115530</td>\n",
       "      <td>3.995208</td>\n",
       "      <td>3.755530</td>\n",
       "      <td>3.819580</td>\n",
       "      <td>3.583973</td>\n",
       "      <td>3.323798</td>\n",
       "      <td>3.128725</td>\n",
       "      <td>...</td>\n",
       "      <td>1.914451</td>\n",
       "      <td>1.758873</td>\n",
       "      <td>1.687033</td>\n",
       "      <td>1.768289</td>\n",
       "      <td>1.640084</td>\n",
       "      <td>1.514136</td>\n",
       "      <td>1.599026</td>\n",
       "      <td>1.617606</td>\n",
       "      <td>1.648735</td>\n",
       "      <td>Lower middle income</td>\n",
       "    </tr>\n",
       "  </tbody>\n",
       "</table>\n",
       "<p>195 rows × 55 columns</p>\n",
       "</div>"
      ],
      "text/plain": [
       "                            1970        1971        1972        1973  \\\n",
       "Country                                                                \n",
       "Aruba                   0.621591    0.698825    0.875514    0.952142   \n",
       "Afghanistan             1.387497    1.345625    1.136047    1.158556   \n",
       "Angola                  2.803674    2.723448    3.024597    3.162829   \n",
       "Albania                 3.824444    3.710615    4.039683    3.723085   \n",
       "United Arab Emirates  126.395533  128.444163  118.626687  127.599030   \n",
       "...                          ...         ...         ...         ...   \n",
       "Samoa                   1.102169    1.086784    1.105879    1.196566   \n",
       "Yemen                   0.871496    0.903826    0.929471    0.959627   \n",
       "South Africa           10.557249   10.246992   10.266928   10.753606   \n",
       "Zambia                  2.985989    2.945469    2.975169    2.971794   \n",
       "Zimbabwe                4.197291    4.171122    3.967215    4.115530   \n",
       "\n",
       "                            1974       1975       1976       1977       1978  \\\n",
       "Country                                                                        \n",
       "Aruba                   0.935603   1.166287   1.151959   1.335586   1.422297   \n",
       "Afghanistan             1.231819   1.258354   1.241663   1.231162   1.181495   \n",
       "Angola                  3.168898   2.931294   2.352391   2.859557   3.032015   \n",
       "Albania                 3.754264   3.746380   3.913496   4.051386   4.363888   \n",
       "United Arab Emirates  110.750021  95.740541  99.445728  87.394145  83.190259   \n",
       "...                          ...        ...        ...        ...        ...   \n",
       "Samoa                   1.343426   1.249852   1.247933   1.274754   1.280024   \n",
       "Yemen                   0.973303   0.951887   0.968989   0.954135   0.965012   \n",
       "South Africa           10.818674  11.227200  11.534004  11.325346  10.323970   \n",
       "Zambia                  2.914869   2.874604   2.860424   2.716384   2.593652   \n",
       "Zimbabwe                3.995208   3.755530   3.819580   3.583973   3.323798   \n",
       "\n",
       "                           1979  ...       2015       2016       2017  \\\n",
       "Country                          ...                                    \n",
       "Aruba                  1.492020  ...   4.705631   4.908697   4.713297   \n",
       "Afghanistan            1.162233  ...   0.812424   0.768525   0.779393   \n",
       "Angola                 2.998765  ...   2.935287   2.737463   2.465213   \n",
       "Albania                4.714221  ...   2.989698   2.855613   3.127462   \n",
       "United Arab Emirates  59.212356  ...  27.745375  28.263682  27.033301   \n",
       "...                         ...  ...        ...        ...        ...   \n",
       "Samoa                  1.337570  ...   2.920001   2.931816   2.892860   \n",
       "Yemen                  0.965421  ...   1.167549   0.984570   1.020746   \n",
       "South Africa          10.407745  ...  10.549465  10.413037  10.496244   \n",
       "Zambia                 2.471795  ...   1.466813   1.459813   1.516921   \n",
       "Zimbabwe               3.128725  ...   1.914451   1.758873   1.687033   \n",
       "\n",
       "                           2018       2019       2020       2021       2022  \\\n",
       "Country                                                                       \n",
       "Aruba                  4.689429   5.553807   4.529961   4.964500   4.986945   \n",
       "Afghanistan            0.757517   0.725168   0.700207   0.710363   0.719308   \n",
       "Angola                 2.258536   2.199314   1.878921   1.900307   1.920968   \n",
       "Albania                3.119193   2.933062   2.708112   2.851648   2.650839   \n",
       "United Arab Emirates  25.002410  25.985158  25.407053  25.859402  26.601027   \n",
       "...                         ...        ...        ...        ...        ...   \n",
       "Samoa                  2.772027   2.868120   2.826158   3.055106   3.131380   \n",
       "Yemen                  1.104478   1.136587   1.087048   1.081515   1.050641   \n",
       "South Africa          10.419614  10.382329   9.225107   9.281145   8.884374   \n",
       "Zambia                 1.547704   1.479020   1.463896   1.468630   1.507137   \n",
       "Zimbabwe               1.768289   1.640084   1.514136   1.599026   1.617606   \n",
       "\n",
       "                           2023         Income group  \n",
       "Country                                               \n",
       "Aruba                  5.199052          High income  \n",
       "Afghanistan            0.724742           Low income  \n",
       "Angola                 1.874900  Lower middle income  \n",
       "Albania                2.603893  Upper middle income  \n",
       "United Arab Emirates  26.290684          High income  \n",
       "...                         ...                  ...  \n",
       "Samoa                  3.167371  Lower middle income  \n",
       "Yemen                  1.000120           Low income  \n",
       "South Africa           8.614204  Upper middle income  \n",
       "Zambia                 1.495362  Lower middle income  \n",
       "Zimbabwe               1.648735  Lower middle income  \n",
       "\n",
       "[195 rows x 55 columns]"
      ]
     },
     "execution_count": 99,
     "metadata": {},
     "output_type": "execute_result"
    }
   ],
   "source": [
    "merged_df"
   ]
  },
  {
   "cell_type": "code",
   "execution_count": 107,
   "id": "fa16f9f9",
   "metadata": {},
   "outputs": [
    {
     "data": {
      "text/html": [
       "<div>\n",
       "<style scoped>\n",
       "    .dataframe tbody tr th:only-of-type {\n",
       "        vertical-align: middle;\n",
       "    }\n",
       "\n",
       "    .dataframe tbody tr th {\n",
       "        vertical-align: top;\n",
       "    }\n",
       "\n",
       "    .dataframe thead th {\n",
       "        text-align: right;\n",
       "    }\n",
       "</style>\n",
       "<table border=\"1\" class=\"dataframe\">\n",
       "  <thead>\n",
       "    <tr style=\"text-align: right;\">\n",
       "      <th></th>\n",
       "      <th>1970</th>\n",
       "      <th>1971</th>\n",
       "      <th>1972</th>\n",
       "      <th>1973</th>\n",
       "      <th>1974</th>\n",
       "      <th>1975</th>\n",
       "      <th>1976</th>\n",
       "      <th>1977</th>\n",
       "      <th>1978</th>\n",
       "      <th>1979</th>\n",
       "      <th>...</th>\n",
       "      <th>2014</th>\n",
       "      <th>2015</th>\n",
       "      <th>2016</th>\n",
       "      <th>2017</th>\n",
       "      <th>2018</th>\n",
       "      <th>2019</th>\n",
       "      <th>2020</th>\n",
       "      <th>2021</th>\n",
       "      <th>2022</th>\n",
       "      <th>2023</th>\n",
       "    </tr>\n",
       "    <tr>\n",
       "      <th>Income group</th>\n",
       "      <th></th>\n",
       "      <th></th>\n",
       "      <th></th>\n",
       "      <th></th>\n",
       "      <th></th>\n",
       "      <th></th>\n",
       "      <th></th>\n",
       "      <th></th>\n",
       "      <th></th>\n",
       "      <th></th>\n",
       "      <th></th>\n",
       "      <th></th>\n",
       "      <th></th>\n",
       "      <th></th>\n",
       "      <th></th>\n",
       "      <th></th>\n",
       "      <th></th>\n",
       "      <th></th>\n",
       "      <th></th>\n",
       "      <th></th>\n",
       "      <th></th>\n",
       "    </tr>\n",
       "  </thead>\n",
       "  <tbody>\n",
       "    <tr>\n",
       "      <th>High income</th>\n",
       "      <td>19.744637</td>\n",
       "      <td>19.689075</td>\n",
       "      <td>20.099851</td>\n",
       "      <td>20.648566</td>\n",
       "      <td>19.227152</td>\n",
       "      <td>18.285130</td>\n",
       "      <td>18.338326</td>\n",
       "      <td>17.929243</td>\n",
       "      <td>18.023550</td>\n",
       "      <td>17.611700</td>\n",
       "      <td>...</td>\n",
       "      <td>12.777124</td>\n",
       "      <td>12.684970</td>\n",
       "      <td>12.598775</td>\n",
       "      <td>12.555165</td>\n",
       "      <td>12.528513</td>\n",
       "      <td>12.451980</td>\n",
       "      <td>11.850592</td>\n",
       "      <td>12.093651</td>\n",
       "      <td>12.012231</td>\n",
       "      <td>11.920250</td>\n",
       "    </tr>\n",
       "    <tr>\n",
       "      <th>Low income</th>\n",
       "      <td>1.862294</td>\n",
       "      <td>1.831963</td>\n",
       "      <td>1.807002</td>\n",
       "      <td>1.751206</td>\n",
       "      <td>1.736288</td>\n",
       "      <td>1.769841</td>\n",
       "      <td>1.773178</td>\n",
       "      <td>1.771454</td>\n",
       "      <td>1.781379</td>\n",
       "      <td>1.807531</td>\n",
       "      <td>...</td>\n",
       "      <td>1.528697</td>\n",
       "      <td>1.486469</td>\n",
       "      <td>1.500925</td>\n",
       "      <td>1.553778</td>\n",
       "      <td>1.553699</td>\n",
       "      <td>1.556980</td>\n",
       "      <td>1.526217</td>\n",
       "      <td>1.509605</td>\n",
       "      <td>1.503131</td>\n",
       "      <td>1.487627</td>\n",
       "    </tr>\n",
       "    <tr>\n",
       "      <th>Lower middle income</th>\n",
       "      <td>2.440795</td>\n",
       "      <td>2.395522</td>\n",
       "      <td>2.392043</td>\n",
       "      <td>2.533405</td>\n",
       "      <td>2.587969</td>\n",
       "      <td>2.463254</td>\n",
       "      <td>2.439382</td>\n",
       "      <td>2.347748</td>\n",
       "      <td>2.355155</td>\n",
       "      <td>2.353585</td>\n",
       "      <td>...</td>\n",
       "      <td>2.302069</td>\n",
       "      <td>2.334578</td>\n",
       "      <td>2.366217</td>\n",
       "      <td>2.395579</td>\n",
       "      <td>2.411186</td>\n",
       "      <td>2.429740</td>\n",
       "      <td>2.348684</td>\n",
       "      <td>2.375103</td>\n",
       "      <td>2.375240</td>\n",
       "      <td>2.389606</td>\n",
       "    </tr>\n",
       "    <tr>\n",
       "      <th>Upper middle income</th>\n",
       "      <td>6.283368</td>\n",
       "      <td>6.092156</td>\n",
       "      <td>5.915427</td>\n",
       "      <td>6.208321</td>\n",
       "      <td>6.111379</td>\n",
       "      <td>6.188694</td>\n",
       "      <td>6.461779</td>\n",
       "      <td>6.538057</td>\n",
       "      <td>6.564345</td>\n",
       "      <td>6.636946</td>\n",
       "      <td>...</td>\n",
       "      <td>6.222469</td>\n",
       "      <td>6.060990</td>\n",
       "      <td>6.119898</td>\n",
       "      <td>6.155839</td>\n",
       "      <td>6.167845</td>\n",
       "      <td>6.243444</td>\n",
       "      <td>5.874965</td>\n",
       "      <td>6.068651</td>\n",
       "      <td>6.050449</td>\n",
       "      <td>6.195693</td>\n",
       "    </tr>\n",
       "  </tbody>\n",
       "</table>\n",
       "<p>4 rows × 54 columns</p>\n",
       "</div>"
      ],
      "text/plain": [
       "                          1970       1971       1972       1973       1974  \\\n",
       "Income group                                                                 \n",
       "High income          19.744637  19.689075  20.099851  20.648566  19.227152   \n",
       "Low income            1.862294   1.831963   1.807002   1.751206   1.736288   \n",
       "Lower middle income   2.440795   2.395522   2.392043   2.533405   2.587969   \n",
       "Upper middle income   6.283368   6.092156   5.915427   6.208321   6.111379   \n",
       "\n",
       "                          1975       1976       1977       1978       1979  \\\n",
       "Income group                                                                 \n",
       "High income          18.285130  18.338326  17.929243  18.023550  17.611700   \n",
       "Low income            1.769841   1.773178   1.771454   1.781379   1.807531   \n",
       "Lower middle income   2.463254   2.439382   2.347748   2.355155   2.353585   \n",
       "Upper middle income   6.188694   6.461779   6.538057   6.564345   6.636946   \n",
       "\n",
       "                     ...       2014       2015       2016       2017  \\\n",
       "Income group         ...                                               \n",
       "High income          ...  12.777124  12.684970  12.598775  12.555165   \n",
       "Low income           ...   1.528697   1.486469   1.500925   1.553778   \n",
       "Lower middle income  ...   2.302069   2.334578   2.366217   2.395579   \n",
       "Upper middle income  ...   6.222469   6.060990   6.119898   6.155839   \n",
       "\n",
       "                          2018       2019       2020       2021       2022  \\\n",
       "Income group                                                                 \n",
       "High income          12.528513  12.451980  11.850592  12.093651  12.012231   \n",
       "Low income            1.553699   1.556980   1.526217   1.509605   1.503131   \n",
       "Lower middle income   2.411186   2.429740   2.348684   2.375103   2.375240   \n",
       "Upper middle income   6.167845   6.243444   5.874965   6.068651   6.050449   \n",
       "\n",
       "                          2023  \n",
       "Income group                    \n",
       "High income          11.920250  \n",
       "Low income            1.487627  \n",
       "Lower middle income   2.389606  \n",
       "Upper middle income   6.195693  \n",
       "\n",
       "[4 rows x 54 columns]"
      ]
     },
     "execution_count": 107,
     "metadata": {},
     "output_type": "execute_result"
    }
   ],
   "source": [
    "#Let's group the values by the income groups and do their means\n",
    "group_df = merged_df.groupby('Income group')\n",
    "mean_values = group_df.mean()\n",
    "mean_values"
   ]
  },
  {
   "cell_type": "code",
   "execution_count": 117,
   "id": "36a1c1fd",
   "metadata": {},
   "outputs": [
    {
     "name": "stdout",
     "output_type": "stream",
     "text": [
      "Index([1970, 1971, 1972, 1973, 1974, 1975, 1976, 1977, 1978, 1979, 1980, 1981,\n",
      "       1982, 1983, 1984, 1985, 1986, 1987, 1988, 1989, 1990, 1991, 1992, 1993,\n",
      "       1994, 1995, 1996, 1997, 1998, 1999, 2000, 2001, 2002, 2003, 2004, 2005,\n",
      "       2006, 2007, 2008, 2009, 2010, 2011, 2012, 2013, 2014, 2015, 2016, 2017,\n",
      "       2018, 2019, 2020, 2021, 2022, 2023],\n",
      "      dtype='object')\n"
     ]
    }
   ],
   "source": [
    "me"
   ]
  },
  {
   "cell_type": "code",
   "execution_count": 121,
   "id": "2713b4b5",
   "metadata": {},
   "outputs": [],
   "source": [
    "# Filter the dataframe for the desired years\n",
    "filtered_df = mean_values[[2013, 2018, 2023]]"
   ]
  },
  {
   "cell_type": "code",
   "execution_count": 122,
   "id": "f4ed7cdb",
   "metadata": {},
   "outputs": [],
   "source": [
    "# Transpose the dataframe for easier plotting\n",
    "filtered_df = filtered_df.T"
   ]
  },
  {
   "cell_type": "code",
   "execution_count": 123,
   "id": "8a7002aa",
   "metadata": {},
   "outputs": [
    {
     "data": {
      "text/html": [
       "<div>\n",
       "<style scoped>\n",
       "    .dataframe tbody tr th:only-of-type {\n",
       "        vertical-align: middle;\n",
       "    }\n",
       "\n",
       "    .dataframe tbody tr th {\n",
       "        vertical-align: top;\n",
       "    }\n",
       "\n",
       "    .dataframe thead th {\n",
       "        text-align: right;\n",
       "    }\n",
       "</style>\n",
       "<table border=\"1\" class=\"dataframe\">\n",
       "  <thead>\n",
       "    <tr style=\"text-align: right;\">\n",
       "      <th>Income group</th>\n",
       "      <th>High income</th>\n",
       "      <th>Low income</th>\n",
       "      <th>Lower middle income</th>\n",
       "      <th>Upper middle income</th>\n",
       "    </tr>\n",
       "  </thead>\n",
       "  <tbody>\n",
       "    <tr>\n",
       "      <th>2013</th>\n",
       "      <td>13.226094</td>\n",
       "      <td>1.537518</td>\n",
       "      <td>2.286144</td>\n",
       "      <td>6.288958</td>\n",
       "    </tr>\n",
       "    <tr>\n",
       "      <th>2018</th>\n",
       "      <td>12.528513</td>\n",
       "      <td>1.553699</td>\n",
       "      <td>2.411186</td>\n",
       "      <td>6.167845</td>\n",
       "    </tr>\n",
       "    <tr>\n",
       "      <th>2023</th>\n",
       "      <td>11.920250</td>\n",
       "      <td>1.487627</td>\n",
       "      <td>2.389606</td>\n",
       "      <td>6.195693</td>\n",
       "    </tr>\n",
       "  </tbody>\n",
       "</table>\n",
       "</div>"
      ],
      "text/plain": [
       "Income group  High income  Low income  Lower middle income  \\\n",
       "2013            13.226094    1.537518             2.286144   \n",
       "2018            12.528513    1.553699             2.411186   \n",
       "2023            11.920250    1.487627             2.389606   \n",
       "\n",
       "Income group  Upper middle income  \n",
       "2013                     6.288958  \n",
       "2018                     6.167845  \n",
       "2023                     6.195693  "
      ]
     },
     "execution_count": 123,
     "metadata": {},
     "output_type": "execute_result"
    }
   ],
   "source": [
    "filtered_df"
   ]
  },
  {
   "cell_type": "code",
   "execution_count": 126,
   "id": "d978db96",
   "metadata": {},
   "outputs": [
    {
     "data": {
      "application/vnd.plotly.v1+json": {
       "config": {
        "plotlyServerURL": "https://plot.ly"
       },
       "data": [
        {
         "name": "High income",
         "type": "bar",
         "x": [
          2013,
          2018,
          2023
         ],
         "y": [
          13.226094148760444,
          12.528513367238032,
          11.920249852484263
         ]
        },
        {
         "name": "Low income",
         "type": "bar",
         "x": [
          2013,
          2018,
          2023
         ],
         "y": [
          1.5375175240732688,
          1.5536986506373964,
          1.4876274867608204
         ]
        },
        {
         "name": "Lower middle income",
         "type": "bar",
         "x": [
          2013,
          2018,
          2023
         ],
         "y": [
          2.286144276602821,
          2.4111861021024774,
          2.3896062207889868
         ]
        },
        {
         "name": "Upper middle income",
         "type": "bar",
         "x": [
          2013,
          2018,
          2023
         ],
         "y": [
          6.28895803105192,
          6.167844749876682,
          6.195692690375261
         ]
        }
       ],
       "layout": {
        "barmode": "group",
        "legend": {
         "title": {
          "text": "Income Group"
         }
        },
        "template": {
         "data": {
          "bar": [
           {
            "error_x": {
             "color": "#2a3f5f"
            },
            "error_y": {
             "color": "#2a3f5f"
            },
            "marker": {
             "line": {
              "color": "#E5ECF6",
              "width": 0.5
             },
             "pattern": {
              "fillmode": "overlay",
              "size": 10,
              "solidity": 0.2
             }
            },
            "type": "bar"
           }
          ],
          "barpolar": [
           {
            "marker": {
             "line": {
              "color": "#E5ECF6",
              "width": 0.5
             },
             "pattern": {
              "fillmode": "overlay",
              "size": 10,
              "solidity": 0.2
             }
            },
            "type": "barpolar"
           }
          ],
          "carpet": [
           {
            "aaxis": {
             "endlinecolor": "#2a3f5f",
             "gridcolor": "white",
             "linecolor": "white",
             "minorgridcolor": "white",
             "startlinecolor": "#2a3f5f"
            },
            "baxis": {
             "endlinecolor": "#2a3f5f",
             "gridcolor": "white",
             "linecolor": "white",
             "minorgridcolor": "white",
             "startlinecolor": "#2a3f5f"
            },
            "type": "carpet"
           }
          ],
          "choropleth": [
           {
            "colorbar": {
             "outlinewidth": 0,
             "ticks": ""
            },
            "type": "choropleth"
           }
          ],
          "contour": [
           {
            "colorbar": {
             "outlinewidth": 0,
             "ticks": ""
            },
            "colorscale": [
             [
              0,
              "#0d0887"
             ],
             [
              0.1111111111111111,
              "#46039f"
             ],
             [
              0.2222222222222222,
              "#7201a8"
             ],
             [
              0.3333333333333333,
              "#9c179e"
             ],
             [
              0.4444444444444444,
              "#bd3786"
             ],
             [
              0.5555555555555556,
              "#d8576b"
             ],
             [
              0.6666666666666666,
              "#ed7953"
             ],
             [
              0.7777777777777778,
              "#fb9f3a"
             ],
             [
              0.8888888888888888,
              "#fdca26"
             ],
             [
              1,
              "#f0f921"
             ]
            ],
            "type": "contour"
           }
          ],
          "contourcarpet": [
           {
            "colorbar": {
             "outlinewidth": 0,
             "ticks": ""
            },
            "type": "contourcarpet"
           }
          ],
          "heatmap": [
           {
            "colorbar": {
             "outlinewidth": 0,
             "ticks": ""
            },
            "colorscale": [
             [
              0,
              "#0d0887"
             ],
             [
              0.1111111111111111,
              "#46039f"
             ],
             [
              0.2222222222222222,
              "#7201a8"
             ],
             [
              0.3333333333333333,
              "#9c179e"
             ],
             [
              0.4444444444444444,
              "#bd3786"
             ],
             [
              0.5555555555555556,
              "#d8576b"
             ],
             [
              0.6666666666666666,
              "#ed7953"
             ],
             [
              0.7777777777777778,
              "#fb9f3a"
             ],
             [
              0.8888888888888888,
              "#fdca26"
             ],
             [
              1,
              "#f0f921"
             ]
            ],
            "type": "heatmap"
           }
          ],
          "heatmapgl": [
           {
            "colorbar": {
             "outlinewidth": 0,
             "ticks": ""
            },
            "colorscale": [
             [
              0,
              "#0d0887"
             ],
             [
              0.1111111111111111,
              "#46039f"
             ],
             [
              0.2222222222222222,
              "#7201a8"
             ],
             [
              0.3333333333333333,
              "#9c179e"
             ],
             [
              0.4444444444444444,
              "#bd3786"
             ],
             [
              0.5555555555555556,
              "#d8576b"
             ],
             [
              0.6666666666666666,
              "#ed7953"
             ],
             [
              0.7777777777777778,
              "#fb9f3a"
             ],
             [
              0.8888888888888888,
              "#fdca26"
             ],
             [
              1,
              "#f0f921"
             ]
            ],
            "type": "heatmapgl"
           }
          ],
          "histogram": [
           {
            "marker": {
             "pattern": {
              "fillmode": "overlay",
              "size": 10,
              "solidity": 0.2
             }
            },
            "type": "histogram"
           }
          ],
          "histogram2d": [
           {
            "colorbar": {
             "outlinewidth": 0,
             "ticks": ""
            },
            "colorscale": [
             [
              0,
              "#0d0887"
             ],
             [
              0.1111111111111111,
              "#46039f"
             ],
             [
              0.2222222222222222,
              "#7201a8"
             ],
             [
              0.3333333333333333,
              "#9c179e"
             ],
             [
              0.4444444444444444,
              "#bd3786"
             ],
             [
              0.5555555555555556,
              "#d8576b"
             ],
             [
              0.6666666666666666,
              "#ed7953"
             ],
             [
              0.7777777777777778,
              "#fb9f3a"
             ],
             [
              0.8888888888888888,
              "#fdca26"
             ],
             [
              1,
              "#f0f921"
             ]
            ],
            "type": "histogram2d"
           }
          ],
          "histogram2dcontour": [
           {
            "colorbar": {
             "outlinewidth": 0,
             "ticks": ""
            },
            "colorscale": [
             [
              0,
              "#0d0887"
             ],
             [
              0.1111111111111111,
              "#46039f"
             ],
             [
              0.2222222222222222,
              "#7201a8"
             ],
             [
              0.3333333333333333,
              "#9c179e"
             ],
             [
              0.4444444444444444,
              "#bd3786"
             ],
             [
              0.5555555555555556,
              "#d8576b"
             ],
             [
              0.6666666666666666,
              "#ed7953"
             ],
             [
              0.7777777777777778,
              "#fb9f3a"
             ],
             [
              0.8888888888888888,
              "#fdca26"
             ],
             [
              1,
              "#f0f921"
             ]
            ],
            "type": "histogram2dcontour"
           }
          ],
          "mesh3d": [
           {
            "colorbar": {
             "outlinewidth": 0,
             "ticks": ""
            },
            "type": "mesh3d"
           }
          ],
          "parcoords": [
           {
            "line": {
             "colorbar": {
              "outlinewidth": 0,
              "ticks": ""
             }
            },
            "type": "parcoords"
           }
          ],
          "pie": [
           {
            "automargin": true,
            "type": "pie"
           }
          ],
          "scatter": [
           {
            "fillpattern": {
             "fillmode": "overlay",
             "size": 10,
             "solidity": 0.2
            },
            "type": "scatter"
           }
          ],
          "scatter3d": [
           {
            "line": {
             "colorbar": {
              "outlinewidth": 0,
              "ticks": ""
             }
            },
            "marker": {
             "colorbar": {
              "outlinewidth": 0,
              "ticks": ""
             }
            },
            "type": "scatter3d"
           }
          ],
          "scattercarpet": [
           {
            "marker": {
             "colorbar": {
              "outlinewidth": 0,
              "ticks": ""
             }
            },
            "type": "scattercarpet"
           }
          ],
          "scattergeo": [
           {
            "marker": {
             "colorbar": {
              "outlinewidth": 0,
              "ticks": ""
             }
            },
            "type": "scattergeo"
           }
          ],
          "scattergl": [
           {
            "marker": {
             "colorbar": {
              "outlinewidth": 0,
              "ticks": ""
             }
            },
            "type": "scattergl"
           }
          ],
          "scattermapbox": [
           {
            "marker": {
             "colorbar": {
              "outlinewidth": 0,
              "ticks": ""
             }
            },
            "type": "scattermapbox"
           }
          ],
          "scatterpolar": [
           {
            "marker": {
             "colorbar": {
              "outlinewidth": 0,
              "ticks": ""
             }
            },
            "type": "scatterpolar"
           }
          ],
          "scatterpolargl": [
           {
            "marker": {
             "colorbar": {
              "outlinewidth": 0,
              "ticks": ""
             }
            },
            "type": "scatterpolargl"
           }
          ],
          "scatterternary": [
           {
            "marker": {
             "colorbar": {
              "outlinewidth": 0,
              "ticks": ""
             }
            },
            "type": "scatterternary"
           }
          ],
          "surface": [
           {
            "colorbar": {
             "outlinewidth": 0,
             "ticks": ""
            },
            "colorscale": [
             [
              0,
              "#0d0887"
             ],
             [
              0.1111111111111111,
              "#46039f"
             ],
             [
              0.2222222222222222,
              "#7201a8"
             ],
             [
              0.3333333333333333,
              "#9c179e"
             ],
             [
              0.4444444444444444,
              "#bd3786"
             ],
             [
              0.5555555555555556,
              "#d8576b"
             ],
             [
              0.6666666666666666,
              "#ed7953"
             ],
             [
              0.7777777777777778,
              "#fb9f3a"
             ],
             [
              0.8888888888888888,
              "#fdca26"
             ],
             [
              1,
              "#f0f921"
             ]
            ],
            "type": "surface"
           }
          ],
          "table": [
           {
            "cells": {
             "fill": {
              "color": "#EBF0F8"
             },
             "line": {
              "color": "white"
             }
            },
            "header": {
             "fill": {
              "color": "#C8D4E3"
             },
             "line": {
              "color": "white"
             }
            },
            "type": "table"
           }
          ]
         },
         "layout": {
          "annotationdefaults": {
           "arrowcolor": "#2a3f5f",
           "arrowhead": 0,
           "arrowwidth": 1
          },
          "autotypenumbers": "strict",
          "coloraxis": {
           "colorbar": {
            "outlinewidth": 0,
            "ticks": ""
           }
          },
          "colorscale": {
           "diverging": [
            [
             0,
             "#8e0152"
            ],
            [
             0.1,
             "#c51b7d"
            ],
            [
             0.2,
             "#de77ae"
            ],
            [
             0.3,
             "#f1b6da"
            ],
            [
             0.4,
             "#fde0ef"
            ],
            [
             0.5,
             "#f7f7f7"
            ],
            [
             0.6,
             "#e6f5d0"
            ],
            [
             0.7,
             "#b8e186"
            ],
            [
             0.8,
             "#7fbc41"
            ],
            [
             0.9,
             "#4d9221"
            ],
            [
             1,
             "#276419"
            ]
           ],
           "sequential": [
            [
             0,
             "#0d0887"
            ],
            [
             0.1111111111111111,
             "#46039f"
            ],
            [
             0.2222222222222222,
             "#7201a8"
            ],
            [
             0.3333333333333333,
             "#9c179e"
            ],
            [
             0.4444444444444444,
             "#bd3786"
            ],
            [
             0.5555555555555556,
             "#d8576b"
            ],
            [
             0.6666666666666666,
             "#ed7953"
            ],
            [
             0.7777777777777778,
             "#fb9f3a"
            ],
            [
             0.8888888888888888,
             "#fdca26"
            ],
            [
             1,
             "#f0f921"
            ]
           ],
           "sequentialminus": [
            [
             0,
             "#0d0887"
            ],
            [
             0.1111111111111111,
             "#46039f"
            ],
            [
             0.2222222222222222,
             "#7201a8"
            ],
            [
             0.3333333333333333,
             "#9c179e"
            ],
            [
             0.4444444444444444,
             "#bd3786"
            ],
            [
             0.5555555555555556,
             "#d8576b"
            ],
            [
             0.6666666666666666,
             "#ed7953"
            ],
            [
             0.7777777777777778,
             "#fb9f3a"
            ],
            [
             0.8888888888888888,
             "#fdca26"
            ],
            [
             1,
             "#f0f921"
            ]
           ]
          },
          "colorway": [
           "#636efa",
           "#EF553B",
           "#00cc96",
           "#ab63fa",
           "#FFA15A",
           "#19d3f3",
           "#FF6692",
           "#B6E880",
           "#FF97FF",
           "#FECB52"
          ],
          "font": {
           "color": "#2a3f5f"
          },
          "geo": {
           "bgcolor": "white",
           "lakecolor": "white",
           "landcolor": "#E5ECF6",
           "showlakes": true,
           "showland": true,
           "subunitcolor": "white"
          },
          "hoverlabel": {
           "align": "left"
          },
          "hovermode": "closest",
          "mapbox": {
           "style": "light"
          },
          "paper_bgcolor": "white",
          "plot_bgcolor": "#E5ECF6",
          "polar": {
           "angularaxis": {
            "gridcolor": "white",
            "linecolor": "white",
            "ticks": ""
           },
           "bgcolor": "#E5ECF6",
           "radialaxis": {
            "gridcolor": "white",
            "linecolor": "white",
            "ticks": ""
           }
          },
          "scene": {
           "xaxis": {
            "backgroundcolor": "#E5ECF6",
            "gridcolor": "white",
            "gridwidth": 2,
            "linecolor": "white",
            "showbackground": true,
            "ticks": "",
            "zerolinecolor": "white"
           },
           "yaxis": {
            "backgroundcolor": "#E5ECF6",
            "gridcolor": "white",
            "gridwidth": 2,
            "linecolor": "white",
            "showbackground": true,
            "ticks": "",
            "zerolinecolor": "white"
           },
           "zaxis": {
            "backgroundcolor": "#E5ECF6",
            "gridcolor": "white",
            "gridwidth": 2,
            "linecolor": "white",
            "showbackground": true,
            "ticks": "",
            "zerolinecolor": "white"
           }
          },
          "shapedefaults": {
           "line": {
            "color": "#2a3f5f"
           }
          },
          "ternary": {
           "aaxis": {
            "gridcolor": "white",
            "linecolor": "white",
            "ticks": ""
           },
           "baxis": {
            "gridcolor": "white",
            "linecolor": "white",
            "ticks": ""
           },
           "bgcolor": "#E5ECF6",
           "caxis": {
            "gridcolor": "white",
            "linecolor": "white",
            "ticks": ""
           }
          },
          "title": {
           "x": 0.05
          },
          "xaxis": {
           "automargin": true,
           "gridcolor": "white",
           "linecolor": "white",
           "ticks": "",
           "title": {
            "standoff": 15
           },
           "zerolinecolor": "white",
           "zerolinewidth": 2
          },
          "yaxis": {
           "automargin": true,
           "gridcolor": "white",
           "linecolor": "white",
           "ticks": "",
           "title": {
            "standoff": 15
           },
           "zerolinecolor": "white",
           "zerolinewidth": 2
          }
         }
        },
        "title": {
         "text": "GHG Emissions per Capita by World Bank Income Group (2013, 2018, 2023)"
        },
        "xaxis": {
         "title": {
          "text": "Year"
         }
        },
        "yaxis": {
         "title": {
          "text": "GHG Emissions per Capita (tons CO₂e)"
         }
        }
       }
      },
      "text/html": [
       "<div>                            <div id=\"e0c07d4e-f83f-4e2c-94db-eda11483c0e1\" class=\"plotly-graph-div\" style=\"height:525px; width:100%;\"></div>            <script type=\"text/javascript\">                require([\"plotly\"], function(Plotly) {                    window.PLOTLYENV=window.PLOTLYENV || {};                                    if (document.getElementById(\"e0c07d4e-f83f-4e2c-94db-eda11483c0e1\")) {                    Plotly.newPlot(                        \"e0c07d4e-f83f-4e2c-94db-eda11483c0e1\",                        [{\"name\":\"High income\",\"x\":[2013,2018,2023],\"y\":[13.226094148760444,12.528513367238032,11.920249852484263],\"type\":\"bar\"},{\"name\":\"Low income\",\"x\":[2013,2018,2023],\"y\":[1.5375175240732688,1.5536986506373964,1.4876274867608204],\"type\":\"bar\"},{\"name\":\"Lower middle income\",\"x\":[2013,2018,2023],\"y\":[2.286144276602821,2.4111861021024774,2.3896062207889868],\"type\":\"bar\"},{\"name\":\"Upper middle income\",\"x\":[2013,2018,2023],\"y\":[6.28895803105192,6.167844749876682,6.195692690375261],\"type\":\"bar\"}],                        {\"template\":{\"data\":{\"histogram2dcontour\":[{\"type\":\"histogram2dcontour\",\"colorbar\":{\"outlinewidth\":0,\"ticks\":\"\"},\"colorscale\":[[0.0,\"#0d0887\"],[0.1111111111111111,\"#46039f\"],[0.2222222222222222,\"#7201a8\"],[0.3333333333333333,\"#9c179e\"],[0.4444444444444444,\"#bd3786\"],[0.5555555555555556,\"#d8576b\"],[0.6666666666666666,\"#ed7953\"],[0.7777777777777778,\"#fb9f3a\"],[0.8888888888888888,\"#fdca26\"],[1.0,\"#f0f921\"]]}],\"choropleth\":[{\"type\":\"choropleth\",\"colorbar\":{\"outlinewidth\":0,\"ticks\":\"\"}}],\"histogram2d\":[{\"type\":\"histogram2d\",\"colorbar\":{\"outlinewidth\":0,\"ticks\":\"\"},\"colorscale\":[[0.0,\"#0d0887\"],[0.1111111111111111,\"#46039f\"],[0.2222222222222222,\"#7201a8\"],[0.3333333333333333,\"#9c179e\"],[0.4444444444444444,\"#bd3786\"],[0.5555555555555556,\"#d8576b\"],[0.6666666666666666,\"#ed7953\"],[0.7777777777777778,\"#fb9f3a\"],[0.8888888888888888,\"#fdca26\"],[1.0,\"#f0f921\"]]}],\"heatmap\":[{\"type\":\"heatmap\",\"colorbar\":{\"outlinewidth\":0,\"ticks\":\"\"},\"colorscale\":[[0.0,\"#0d0887\"],[0.1111111111111111,\"#46039f\"],[0.2222222222222222,\"#7201a8\"],[0.3333333333333333,\"#9c179e\"],[0.4444444444444444,\"#bd3786\"],[0.5555555555555556,\"#d8576b\"],[0.6666666666666666,\"#ed7953\"],[0.7777777777777778,\"#fb9f3a\"],[0.8888888888888888,\"#fdca26\"],[1.0,\"#f0f921\"]]}],\"heatmapgl\":[{\"type\":\"heatmapgl\",\"colorbar\":{\"outlinewidth\":0,\"ticks\":\"\"},\"colorscale\":[[0.0,\"#0d0887\"],[0.1111111111111111,\"#46039f\"],[0.2222222222222222,\"#7201a8\"],[0.3333333333333333,\"#9c179e\"],[0.4444444444444444,\"#bd3786\"],[0.5555555555555556,\"#d8576b\"],[0.6666666666666666,\"#ed7953\"],[0.7777777777777778,\"#fb9f3a\"],[0.8888888888888888,\"#fdca26\"],[1.0,\"#f0f921\"]]}],\"contourcarpet\":[{\"type\":\"contourcarpet\",\"colorbar\":{\"outlinewidth\":0,\"ticks\":\"\"}}],\"contour\":[{\"type\":\"contour\",\"colorbar\":{\"outlinewidth\":0,\"ticks\":\"\"},\"colorscale\":[[0.0,\"#0d0887\"],[0.1111111111111111,\"#46039f\"],[0.2222222222222222,\"#7201a8\"],[0.3333333333333333,\"#9c179e\"],[0.4444444444444444,\"#bd3786\"],[0.5555555555555556,\"#d8576b\"],[0.6666666666666666,\"#ed7953\"],[0.7777777777777778,\"#fb9f3a\"],[0.8888888888888888,\"#fdca26\"],[1.0,\"#f0f921\"]]}],\"surface\":[{\"type\":\"surface\",\"colorbar\":{\"outlinewidth\":0,\"ticks\":\"\"},\"colorscale\":[[0.0,\"#0d0887\"],[0.1111111111111111,\"#46039f\"],[0.2222222222222222,\"#7201a8\"],[0.3333333333333333,\"#9c179e\"],[0.4444444444444444,\"#bd3786\"],[0.5555555555555556,\"#d8576b\"],[0.6666666666666666,\"#ed7953\"],[0.7777777777777778,\"#fb9f3a\"],[0.8888888888888888,\"#fdca26\"],[1.0,\"#f0f921\"]]}],\"mesh3d\":[{\"type\":\"mesh3d\",\"colorbar\":{\"outlinewidth\":0,\"ticks\":\"\"}}],\"scatter\":[{\"fillpattern\":{\"fillmode\":\"overlay\",\"size\":10,\"solidity\":0.2},\"type\":\"scatter\"}],\"parcoords\":[{\"type\":\"parcoords\",\"line\":{\"colorbar\":{\"outlinewidth\":0,\"ticks\":\"\"}}}],\"scatterpolargl\":[{\"type\":\"scatterpolargl\",\"marker\":{\"colorbar\":{\"outlinewidth\":0,\"ticks\":\"\"}}}],\"bar\":[{\"error_x\":{\"color\":\"#2a3f5f\"},\"error_y\":{\"color\":\"#2a3f5f\"},\"marker\":{\"line\":{\"color\":\"#E5ECF6\",\"width\":0.5},\"pattern\":{\"fillmode\":\"overlay\",\"size\":10,\"solidity\":0.2}},\"type\":\"bar\"}],\"scattergeo\":[{\"type\":\"scattergeo\",\"marker\":{\"colorbar\":{\"outlinewidth\":0,\"ticks\":\"\"}}}],\"scatterpolar\":[{\"type\":\"scatterpolar\",\"marker\":{\"colorbar\":{\"outlinewidth\":0,\"ticks\":\"\"}}}],\"histogram\":[{\"marker\":{\"pattern\":{\"fillmode\":\"overlay\",\"size\":10,\"solidity\":0.2}},\"type\":\"histogram\"}],\"scattergl\":[{\"type\":\"scattergl\",\"marker\":{\"colorbar\":{\"outlinewidth\":0,\"ticks\":\"\"}}}],\"scatter3d\":[{\"type\":\"scatter3d\",\"line\":{\"colorbar\":{\"outlinewidth\":0,\"ticks\":\"\"}},\"marker\":{\"colorbar\":{\"outlinewidth\":0,\"ticks\":\"\"}}}],\"scattermapbox\":[{\"type\":\"scattermapbox\",\"marker\":{\"colorbar\":{\"outlinewidth\":0,\"ticks\":\"\"}}}],\"scatterternary\":[{\"type\":\"scatterternary\",\"marker\":{\"colorbar\":{\"outlinewidth\":0,\"ticks\":\"\"}}}],\"scattercarpet\":[{\"type\":\"scattercarpet\",\"marker\":{\"colorbar\":{\"outlinewidth\":0,\"ticks\":\"\"}}}],\"carpet\":[{\"aaxis\":{\"endlinecolor\":\"#2a3f5f\",\"gridcolor\":\"white\",\"linecolor\":\"white\",\"minorgridcolor\":\"white\",\"startlinecolor\":\"#2a3f5f\"},\"baxis\":{\"endlinecolor\":\"#2a3f5f\",\"gridcolor\":\"white\",\"linecolor\":\"white\",\"minorgridcolor\":\"white\",\"startlinecolor\":\"#2a3f5f\"},\"type\":\"carpet\"}],\"table\":[{\"cells\":{\"fill\":{\"color\":\"#EBF0F8\"},\"line\":{\"color\":\"white\"}},\"header\":{\"fill\":{\"color\":\"#C8D4E3\"},\"line\":{\"color\":\"white\"}},\"type\":\"table\"}],\"barpolar\":[{\"marker\":{\"line\":{\"color\":\"#E5ECF6\",\"width\":0.5},\"pattern\":{\"fillmode\":\"overlay\",\"size\":10,\"solidity\":0.2}},\"type\":\"barpolar\"}],\"pie\":[{\"automargin\":true,\"type\":\"pie\"}]},\"layout\":{\"autotypenumbers\":\"strict\",\"colorway\":[\"#636efa\",\"#EF553B\",\"#00cc96\",\"#ab63fa\",\"#FFA15A\",\"#19d3f3\",\"#FF6692\",\"#B6E880\",\"#FF97FF\",\"#FECB52\"],\"font\":{\"color\":\"#2a3f5f\"},\"hovermode\":\"closest\",\"hoverlabel\":{\"align\":\"left\"},\"paper_bgcolor\":\"white\",\"plot_bgcolor\":\"#E5ECF6\",\"polar\":{\"bgcolor\":\"#E5ECF6\",\"angularaxis\":{\"gridcolor\":\"white\",\"linecolor\":\"white\",\"ticks\":\"\"},\"radialaxis\":{\"gridcolor\":\"white\",\"linecolor\":\"white\",\"ticks\":\"\"}},\"ternary\":{\"bgcolor\":\"#E5ECF6\",\"aaxis\":{\"gridcolor\":\"white\",\"linecolor\":\"white\",\"ticks\":\"\"},\"baxis\":{\"gridcolor\":\"white\",\"linecolor\":\"white\",\"ticks\":\"\"},\"caxis\":{\"gridcolor\":\"white\",\"linecolor\":\"white\",\"ticks\":\"\"}},\"coloraxis\":{\"colorbar\":{\"outlinewidth\":0,\"ticks\":\"\"}},\"colorscale\":{\"sequential\":[[0.0,\"#0d0887\"],[0.1111111111111111,\"#46039f\"],[0.2222222222222222,\"#7201a8\"],[0.3333333333333333,\"#9c179e\"],[0.4444444444444444,\"#bd3786\"],[0.5555555555555556,\"#d8576b\"],[0.6666666666666666,\"#ed7953\"],[0.7777777777777778,\"#fb9f3a\"],[0.8888888888888888,\"#fdca26\"],[1.0,\"#f0f921\"]],\"sequentialminus\":[[0.0,\"#0d0887\"],[0.1111111111111111,\"#46039f\"],[0.2222222222222222,\"#7201a8\"],[0.3333333333333333,\"#9c179e\"],[0.4444444444444444,\"#bd3786\"],[0.5555555555555556,\"#d8576b\"],[0.6666666666666666,\"#ed7953\"],[0.7777777777777778,\"#fb9f3a\"],[0.8888888888888888,\"#fdca26\"],[1.0,\"#f0f921\"]],\"diverging\":[[0,\"#8e0152\"],[0.1,\"#c51b7d\"],[0.2,\"#de77ae\"],[0.3,\"#f1b6da\"],[0.4,\"#fde0ef\"],[0.5,\"#f7f7f7\"],[0.6,\"#e6f5d0\"],[0.7,\"#b8e186\"],[0.8,\"#7fbc41\"],[0.9,\"#4d9221\"],[1,\"#276419\"]]},\"xaxis\":{\"gridcolor\":\"white\",\"linecolor\":\"white\",\"ticks\":\"\",\"title\":{\"standoff\":15},\"zerolinecolor\":\"white\",\"automargin\":true,\"zerolinewidth\":2},\"yaxis\":{\"gridcolor\":\"white\",\"linecolor\":\"white\",\"ticks\":\"\",\"title\":{\"standoff\":15},\"zerolinecolor\":\"white\",\"automargin\":true,\"zerolinewidth\":2},\"scene\":{\"xaxis\":{\"backgroundcolor\":\"#E5ECF6\",\"gridcolor\":\"white\",\"linecolor\":\"white\",\"showbackground\":true,\"ticks\":\"\",\"zerolinecolor\":\"white\",\"gridwidth\":2},\"yaxis\":{\"backgroundcolor\":\"#E5ECF6\",\"gridcolor\":\"white\",\"linecolor\":\"white\",\"showbackground\":true,\"ticks\":\"\",\"zerolinecolor\":\"white\",\"gridwidth\":2},\"zaxis\":{\"backgroundcolor\":\"#E5ECF6\",\"gridcolor\":\"white\",\"linecolor\":\"white\",\"showbackground\":true,\"ticks\":\"\",\"zerolinecolor\":\"white\",\"gridwidth\":2}},\"shapedefaults\":{\"line\":{\"color\":\"#2a3f5f\"}},\"annotationdefaults\":{\"arrowcolor\":\"#2a3f5f\",\"arrowhead\":0,\"arrowwidth\":1},\"geo\":{\"bgcolor\":\"white\",\"landcolor\":\"#E5ECF6\",\"subunitcolor\":\"white\",\"showland\":true,\"showlakes\":true,\"lakecolor\":\"white\"},\"title\":{\"x\":0.05},\"mapbox\":{\"style\":\"light\"}}},\"title\":{\"text\":\"GHG Emissions per Capita by World Bank Income Group (2013, 2018, 2023)\"},\"xaxis\":{\"title\":{\"text\":\"Year\"}},\"yaxis\":{\"title\":{\"text\":\"GHG Emissions per Capita (tons CO\\u2082e)\"}},\"barmode\":\"group\",\"legend\":{\"title\":{\"text\":\"Income Group\"}}},                        {\"responsive\": true}                    ).then(function(){\n",
       "                            \n",
       "var gd = document.getElementById('e0c07d4e-f83f-4e2c-94db-eda11483c0e1');\n",
       "var x = new MutationObserver(function (mutations, observer) {{\n",
       "        var display = window.getComputedStyle(gd).display;\n",
       "        if (!display || display === 'none') {{\n",
       "            console.log([gd, 'removed!']);\n",
       "            Plotly.purge(gd);\n",
       "            observer.disconnect();\n",
       "        }}\n",
       "}});\n",
       "\n",
       "// Listen for the removal of the full notebook cells\n",
       "var notebookContainer = gd.closest('#notebook-container');\n",
       "if (notebookContainer) {{\n",
       "    x.observe(notebookContainer, {childList: true});\n",
       "}}\n",
       "\n",
       "// Listen for the clearing of the current output cell\n",
       "var outputEl = gd.closest('.output');\n",
       "if (outputEl) {{\n",
       "    x.observe(outputEl, {childList: true});\n",
       "}}\n",
       "\n",
       "                        })                };                });            </script>        </div>"
      ]
     },
     "metadata": {},
     "output_type": "display_data"
    }
   ],
   "source": [
    "# Create a grouped bar chart\n",
    "fig = go.Figure()\n",
    "\n",
    "# Loop through each income group and add a trace\n",
    "for income_group in filtered_df.columns:\n",
    "    fig.add_trace(go.Bar(\n",
    "        x=filtered_df.index,  # Years\n",
    "        y=filtered_df[income_group],  # GHG emissions for the income group\n",
    "        name=income_group  # Label for the legend\n",
    "    ))\n",
    "\n",
    "# Update layout for better visualization\n",
    "fig.update_layout(\n",
    "    title=\"GHG Emissions per Capita by World Bank Income Group (2013, 2018, 2023)\",\n",
    "    xaxis_title=\"Year\",\n",
    "    yaxis_title=\"GHG Emissions per Capita (tons CO₂e)\",\n",
    "    barmode='group',  # Group bars by year\n",
    "    legend_title=\"Income Group\",\n",
    "    template=\"plotly\"\n",
    ")\n",
    "\n",
    "# Show the chart\n",
    "fig.show()"
   ]
  },
  {
   "cell_type": "code",
   "execution_count": null,
   "id": "9bfe4b18",
   "metadata": {},
   "outputs": [],
   "source": []
  }
 ],
 "metadata": {
  "kernelspec": {
   "display_name": "Python 3 (ipykernel)",
   "language": "python",
   "name": "python3"
  },
  "language_info": {
   "codemirror_mode": {
    "name": "ipython",
    "version": 3
   },
   "file_extension": ".py",
   "mimetype": "text/x-python",
   "name": "python",
   "nbconvert_exporter": "python",
   "pygments_lexer": "ipython3",
   "version": "3.10.10"
  }
 },
 "nbformat": 4,
 "nbformat_minor": 5
}
